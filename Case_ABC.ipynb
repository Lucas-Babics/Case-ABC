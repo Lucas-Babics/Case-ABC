{
  "nbformat": 4,
  "nbformat_minor": 0,
  "metadata": {
    "colab": {
      "provenance": []
    },
    "kernelspec": {
      "name": "python3",
      "display_name": "Python 3"
    },
    "language_info": {
      "name": "python"
    }
  },
  "cells": [
    {
      "cell_type": "markdown",
      "source": [
        "### Nesse notebook, iremos responder algumas perguntas propostas no case. Primeiramente, faremos a importação de algumas bibliotecas básicas que são frequentemente utilizadas."
      ],
      "metadata": {
        "id": "it_mZkhD_hK4"
      }
    },
    {
      "cell_type": "code",
      "source": [
        "import pandas as pd\n",
        "import numpy as np\n",
        "import matplotlib.pyplot as plt\n",
        "import seaborn as sns\n",
        "import warnings"
      ],
      "metadata": {
        "id": "k0s466cZ_e0K"
      },
      "execution_count": null,
      "outputs": []
    },
    {
      "cell_type": "code",
      "source": [
        "warnings.filterwarnings('ignore')"
      ],
      "metadata": {
        "id": "ECPC8tQTO-ob"
      },
      "execution_count": null,
      "outputs": []
    },
    {
      "cell_type": "markdown",
      "source": [
        "### Além disso, pelo fato da tabela proposta se encontrar em um documento Word, instalaremos a biblioteca docx e construíremos uma lógica simples para ler a tabela diretamente do documento no Python."
      ],
      "metadata": {
        "id": "CERXoMzN_sq3"
      }
    },
    {
      "cell_type": "code",
      "source": [
        "!pip install python-docx"
      ],
      "metadata": {
        "colab": {
          "base_uri": "https://localhost:8080/"
        },
        "id": "_VyKIVWSzmEd",
        "outputId": "dc12bab3-5444-4b96-a24b-1d1996c41bd4"
      },
      "execution_count": null,
      "outputs": [
        {
          "output_type": "stream",
          "name": "stdout",
          "text": [
            "Collecting python-docx\n",
            "  Downloading python_docx-1.1.2-py3-none-any.whl (244 kB)\n",
            "\u001b[2K     \u001b[90m━━━━━━━━━━━━━━━━━━━━━━━━━━━━━━━━━━━━━━━━\u001b[0m \u001b[32m244.3/244.3 kB\u001b[0m \u001b[31m1.1 MB/s\u001b[0m eta \u001b[36m0:00:00\u001b[0m\n",
            "\u001b[?25hRequirement already satisfied: lxml>=3.1.0 in /usr/local/lib/python3.10/dist-packages (from python-docx) (4.9.4)\n",
            "Requirement already satisfied: typing-extensions>=4.9.0 in /usr/local/lib/python3.10/dist-packages (from python-docx) (4.12.2)\n",
            "Installing collected packages: python-docx\n",
            "Successfully installed python-docx-1.1.2\n"
          ]
        }
      ]
    },
    {
      "cell_type": "code",
      "source": [
        "import docx\n",
        "\n",
        "ID_CLIENTE = []\n",
        "ID_VENDA = []\n",
        "DT_VENDA = []\n",
        "VLR_VENDA = []\n",
        "DT_VCT = []\n",
        "DT_PGTO =[]\n",
        "DT_PROCESSAMENTO = []\n",
        "\n",
        "documento = docx.Document('/content/Teste_Ciencia_Dados.docx')"
      ],
      "metadata": {
        "id": "7UZQyRjr0Tnm"
      },
      "execution_count": null,
      "outputs": []
    },
    {
      "cell_type": "code",
      "source": [
        "lista_colunas =  [ID_CLIENTE, ID_VENDA, DT_VENDA, VLR_VENDA, DT_VCT,DT_PGTO,DT_PROCESSAMENTO]\n",
        "z = 0\n",
        "for coluna in lista_colunas:\n",
        "  x=1\n",
        "  while x <= 12:\n",
        "    coluna.append(documento.tables[0].cell(x,z).text)\n",
        "    x += 1\n",
        "  z +=1"
      ],
      "metadata": {
        "id": "iagMjAlu0xk-"
      },
      "execution_count": null,
      "outputs": []
    },
    {
      "cell_type": "code",
      "source": [
        "nome_colunas = ['ID_CLIENTE', 'ID_VENDA', 'DT_VENDA', 'VLR_VENDA', 'DT_VCT','DT_PGTO','DT_PROCESSAMENTO']"
      ],
      "metadata": {
        "id": "mZq3fooc9peT"
      },
      "execution_count": null,
      "outputs": []
    },
    {
      "cell_type": "code",
      "source": [
        "df_inicial = pd.DataFrame(dict(zip(nome_colunas, lista_colunas)))"
      ],
      "metadata": {
        "id": "DqYofTpZ-J9R"
      },
      "execution_count": null,
      "outputs": []
    },
    {
      "cell_type": "code",
      "source": [
        "df_inicial"
      ],
      "metadata": {
        "colab": {
          "base_uri": "https://localhost:8080/",
          "height": 426
        },
        "id": "m4_uqktF-0lT",
        "outputId": "4ba4e58a-41d1-49df-de84-c57e93de3254"
      },
      "execution_count": null,
      "outputs": [
        {
          "output_type": "execute_result",
          "data": {
            "text/plain": [
              "   ID_CLIENTE ID_VENDA    DT_VENDA   VLR_VENDA      DT_VCT     DT_PGTO  \\\n",
              "0           A        1  15/01/2022  R$ 150.000  15/09/2022  16/09/2022   \n",
              "1           B        2  29/01/2022  R$ 220.000  01/09/2022  25/08/2022   \n",
              "2           C        3  28/02/2022  R$ 145.000  01/09/2022  30/11/2022   \n",
              "3           D        4  09/03/2022  R$ 330.000  10/10/2022           -   \n",
              "4           E        5  10/03/2022   R$ 95.000  30/09/2022  15/10/2022   \n",
              "5           F        6  15/04/2022  R$ 400.000  15/10/2022  06/02/2023   \n",
              "6           G        7  30/07/2022  R$ 370.000  15/03/2023           -   \n",
              "7           G        7  30/07/2022  R$ 370.000  15/03/2023           -   \n",
              "8           H        8  05/08/2022  R$ 295.000  15/03/2023  28/02/2023   \n",
              "9           A        9  11/11/2022  R$ 186.000  21/05/2023           -   \n",
              "10          A        9  11/11/2022  R$ 186.000  21/05/2023           -   \n",
              "11          B       10  16/01/2023  R$ 244.000  09/06/2023  09/08/2023   \n",
              "\n",
              "       DT_PROCESSAMENTO  \n",
              "0   17/01/2023 08:25:52  \n",
              "1   17/01/2023 08:25:52  \n",
              "2   17/01/2023 08:25:52  \n",
              "3   17/01/2023 08:25:52  \n",
              "4   17/01/2023 08:25:52  \n",
              "5   17/01/2023 08:25:52  \n",
              "6   17/01/2023 08:25:52  \n",
              "7   31/07/2022 00:00:00  \n",
              "8   17/01/2023 08:25:52  \n",
              "9   12/11/2022 00:00:00  \n",
              "10  17/01/2023 08:25:52  \n",
              "11  17/01/2023 08:25:52  "
            ],
            "text/html": [
              "\n",
              "  <div id=\"df-e1bb7c5a-4313-471a-bb31-886779be71e1\" class=\"colab-df-container\">\n",
              "    <div>\n",
              "<style scoped>\n",
              "    .dataframe tbody tr th:only-of-type {\n",
              "        vertical-align: middle;\n",
              "    }\n",
              "\n",
              "    .dataframe tbody tr th {\n",
              "        vertical-align: top;\n",
              "    }\n",
              "\n",
              "    .dataframe thead th {\n",
              "        text-align: right;\n",
              "    }\n",
              "</style>\n",
              "<table border=\"1\" class=\"dataframe\">\n",
              "  <thead>\n",
              "    <tr style=\"text-align: right;\">\n",
              "      <th></th>\n",
              "      <th>ID_CLIENTE</th>\n",
              "      <th>ID_VENDA</th>\n",
              "      <th>DT_VENDA</th>\n",
              "      <th>VLR_VENDA</th>\n",
              "      <th>DT_VCT</th>\n",
              "      <th>DT_PGTO</th>\n",
              "      <th>DT_PROCESSAMENTO</th>\n",
              "    </tr>\n",
              "  </thead>\n",
              "  <tbody>\n",
              "    <tr>\n",
              "      <th>0</th>\n",
              "      <td>A</td>\n",
              "      <td>1</td>\n",
              "      <td>15/01/2022</td>\n",
              "      <td>R$ 150.000</td>\n",
              "      <td>15/09/2022</td>\n",
              "      <td>16/09/2022</td>\n",
              "      <td>17/01/2023 08:25:52</td>\n",
              "    </tr>\n",
              "    <tr>\n",
              "      <th>1</th>\n",
              "      <td>B</td>\n",
              "      <td>2</td>\n",
              "      <td>29/01/2022</td>\n",
              "      <td>R$ 220.000</td>\n",
              "      <td>01/09/2022</td>\n",
              "      <td>25/08/2022</td>\n",
              "      <td>17/01/2023 08:25:52</td>\n",
              "    </tr>\n",
              "    <tr>\n",
              "      <th>2</th>\n",
              "      <td>C</td>\n",
              "      <td>3</td>\n",
              "      <td>28/02/2022</td>\n",
              "      <td>R$ 145.000</td>\n",
              "      <td>01/09/2022</td>\n",
              "      <td>30/11/2022</td>\n",
              "      <td>17/01/2023 08:25:52</td>\n",
              "    </tr>\n",
              "    <tr>\n",
              "      <th>3</th>\n",
              "      <td>D</td>\n",
              "      <td>4</td>\n",
              "      <td>09/03/2022</td>\n",
              "      <td>R$ 330.000</td>\n",
              "      <td>10/10/2022</td>\n",
              "      <td>-</td>\n",
              "      <td>17/01/2023 08:25:52</td>\n",
              "    </tr>\n",
              "    <tr>\n",
              "      <th>4</th>\n",
              "      <td>E</td>\n",
              "      <td>5</td>\n",
              "      <td>10/03/2022</td>\n",
              "      <td>R$ 95.000</td>\n",
              "      <td>30/09/2022</td>\n",
              "      <td>15/10/2022</td>\n",
              "      <td>17/01/2023 08:25:52</td>\n",
              "    </tr>\n",
              "    <tr>\n",
              "      <th>5</th>\n",
              "      <td>F</td>\n",
              "      <td>6</td>\n",
              "      <td>15/04/2022</td>\n",
              "      <td>R$ 400.000</td>\n",
              "      <td>15/10/2022</td>\n",
              "      <td>06/02/2023</td>\n",
              "      <td>17/01/2023 08:25:52</td>\n",
              "    </tr>\n",
              "    <tr>\n",
              "      <th>6</th>\n",
              "      <td>G</td>\n",
              "      <td>7</td>\n",
              "      <td>30/07/2022</td>\n",
              "      <td>R$ 370.000</td>\n",
              "      <td>15/03/2023</td>\n",
              "      <td>-</td>\n",
              "      <td>17/01/2023 08:25:52</td>\n",
              "    </tr>\n",
              "    <tr>\n",
              "      <th>7</th>\n",
              "      <td>G</td>\n",
              "      <td>7</td>\n",
              "      <td>30/07/2022</td>\n",
              "      <td>R$ 370.000</td>\n",
              "      <td>15/03/2023</td>\n",
              "      <td>-</td>\n",
              "      <td>31/07/2022 00:00:00</td>\n",
              "    </tr>\n",
              "    <tr>\n",
              "      <th>8</th>\n",
              "      <td>H</td>\n",
              "      <td>8</td>\n",
              "      <td>05/08/2022</td>\n",
              "      <td>R$ 295.000</td>\n",
              "      <td>15/03/2023</td>\n",
              "      <td>28/02/2023</td>\n",
              "      <td>17/01/2023 08:25:52</td>\n",
              "    </tr>\n",
              "    <tr>\n",
              "      <th>9</th>\n",
              "      <td>A</td>\n",
              "      <td>9</td>\n",
              "      <td>11/11/2022</td>\n",
              "      <td>R$ 186.000</td>\n",
              "      <td>21/05/2023</td>\n",
              "      <td>-</td>\n",
              "      <td>12/11/2022 00:00:00</td>\n",
              "    </tr>\n",
              "    <tr>\n",
              "      <th>10</th>\n",
              "      <td>A</td>\n",
              "      <td>9</td>\n",
              "      <td>11/11/2022</td>\n",
              "      <td>R$ 186.000</td>\n",
              "      <td>21/05/2023</td>\n",
              "      <td>-</td>\n",
              "      <td>17/01/2023 08:25:52</td>\n",
              "    </tr>\n",
              "    <tr>\n",
              "      <th>11</th>\n",
              "      <td>B</td>\n",
              "      <td>10</td>\n",
              "      <td>16/01/2023</td>\n",
              "      <td>R$ 244.000</td>\n",
              "      <td>09/06/2023</td>\n",
              "      <td>09/08/2023</td>\n",
              "      <td>17/01/2023 08:25:52</td>\n",
              "    </tr>\n",
              "  </tbody>\n",
              "</table>\n",
              "</div>\n",
              "    <div class=\"colab-df-buttons\">\n",
              "\n",
              "  <div class=\"colab-df-container\">\n",
              "    <button class=\"colab-df-convert\" onclick=\"convertToInteractive('df-e1bb7c5a-4313-471a-bb31-886779be71e1')\"\n",
              "            title=\"Convert this dataframe to an interactive table.\"\n",
              "            style=\"display:none;\">\n",
              "\n",
              "  <svg xmlns=\"http://www.w3.org/2000/svg\" height=\"24px\" viewBox=\"0 -960 960 960\">\n",
              "    <path d=\"M120-120v-720h720v720H120Zm60-500h600v-160H180v160Zm220 220h160v-160H400v160Zm0 220h160v-160H400v160ZM180-400h160v-160H180v160Zm440 0h160v-160H620v160ZM180-180h160v-160H180v160Zm440 0h160v-160H620v160Z\"/>\n",
              "  </svg>\n",
              "    </button>\n",
              "\n",
              "  <style>\n",
              "    .colab-df-container {\n",
              "      display:flex;\n",
              "      gap: 12px;\n",
              "    }\n",
              "\n",
              "    .colab-df-convert {\n",
              "      background-color: #E8F0FE;\n",
              "      border: none;\n",
              "      border-radius: 50%;\n",
              "      cursor: pointer;\n",
              "      display: none;\n",
              "      fill: #1967D2;\n",
              "      height: 32px;\n",
              "      padding: 0 0 0 0;\n",
              "      width: 32px;\n",
              "    }\n",
              "\n",
              "    .colab-df-convert:hover {\n",
              "      background-color: #E2EBFA;\n",
              "      box-shadow: 0px 1px 2px rgba(60, 64, 67, 0.3), 0px 1px 3px 1px rgba(60, 64, 67, 0.15);\n",
              "      fill: #174EA6;\n",
              "    }\n",
              "\n",
              "    .colab-df-buttons div {\n",
              "      margin-bottom: 4px;\n",
              "    }\n",
              "\n",
              "    [theme=dark] .colab-df-convert {\n",
              "      background-color: #3B4455;\n",
              "      fill: #D2E3FC;\n",
              "    }\n",
              "\n",
              "    [theme=dark] .colab-df-convert:hover {\n",
              "      background-color: #434B5C;\n",
              "      box-shadow: 0px 1px 3px 1px rgba(0, 0, 0, 0.15);\n",
              "      filter: drop-shadow(0px 1px 2px rgba(0, 0, 0, 0.3));\n",
              "      fill: #FFFFFF;\n",
              "    }\n",
              "  </style>\n",
              "\n",
              "    <script>\n",
              "      const buttonEl =\n",
              "        document.querySelector('#df-e1bb7c5a-4313-471a-bb31-886779be71e1 button.colab-df-convert');\n",
              "      buttonEl.style.display =\n",
              "        google.colab.kernel.accessAllowed ? 'block' : 'none';\n",
              "\n",
              "      async function convertToInteractive(key) {\n",
              "        const element = document.querySelector('#df-e1bb7c5a-4313-471a-bb31-886779be71e1');\n",
              "        const dataTable =\n",
              "          await google.colab.kernel.invokeFunction('convertToInteractive',\n",
              "                                                    [key], {});\n",
              "        if (!dataTable) return;\n",
              "\n",
              "        const docLinkHtml = 'Like what you see? Visit the ' +\n",
              "          '<a target=\"_blank\" href=https://colab.research.google.com/notebooks/data_table.ipynb>data table notebook</a>'\n",
              "          + ' to learn more about interactive tables.';\n",
              "        element.innerHTML = '';\n",
              "        dataTable['output_type'] = 'display_data';\n",
              "        await google.colab.output.renderOutput(dataTable, element);\n",
              "        const docLink = document.createElement('div');\n",
              "        docLink.innerHTML = docLinkHtml;\n",
              "        element.appendChild(docLink);\n",
              "      }\n",
              "    </script>\n",
              "  </div>\n",
              "\n",
              "\n",
              "<div id=\"df-e01c934c-89d0-46fc-b0be-a7eeb542bfc1\">\n",
              "  <button class=\"colab-df-quickchart\" onclick=\"quickchart('df-e01c934c-89d0-46fc-b0be-a7eeb542bfc1')\"\n",
              "            title=\"Suggest charts\"\n",
              "            style=\"display:none;\">\n",
              "\n",
              "<svg xmlns=\"http://www.w3.org/2000/svg\" height=\"24px\"viewBox=\"0 0 24 24\"\n",
              "     width=\"24px\">\n",
              "    <g>\n",
              "        <path d=\"M19 3H5c-1.1 0-2 .9-2 2v14c0 1.1.9 2 2 2h14c1.1 0 2-.9 2-2V5c0-1.1-.9-2-2-2zM9 17H7v-7h2v7zm4 0h-2V7h2v10zm4 0h-2v-4h2v4z\"/>\n",
              "    </g>\n",
              "</svg>\n",
              "  </button>\n",
              "\n",
              "<style>\n",
              "  .colab-df-quickchart {\n",
              "      --bg-color: #E8F0FE;\n",
              "      --fill-color: #1967D2;\n",
              "      --hover-bg-color: #E2EBFA;\n",
              "      --hover-fill-color: #174EA6;\n",
              "      --disabled-fill-color: #AAA;\n",
              "      --disabled-bg-color: #DDD;\n",
              "  }\n",
              "\n",
              "  [theme=dark] .colab-df-quickchart {\n",
              "      --bg-color: #3B4455;\n",
              "      --fill-color: #D2E3FC;\n",
              "      --hover-bg-color: #434B5C;\n",
              "      --hover-fill-color: #FFFFFF;\n",
              "      --disabled-bg-color: #3B4455;\n",
              "      --disabled-fill-color: #666;\n",
              "  }\n",
              "\n",
              "  .colab-df-quickchart {\n",
              "    background-color: var(--bg-color);\n",
              "    border: none;\n",
              "    border-radius: 50%;\n",
              "    cursor: pointer;\n",
              "    display: none;\n",
              "    fill: var(--fill-color);\n",
              "    height: 32px;\n",
              "    padding: 0;\n",
              "    width: 32px;\n",
              "  }\n",
              "\n",
              "  .colab-df-quickchart:hover {\n",
              "    background-color: var(--hover-bg-color);\n",
              "    box-shadow: 0 1px 2px rgba(60, 64, 67, 0.3), 0 1px 3px 1px rgba(60, 64, 67, 0.15);\n",
              "    fill: var(--button-hover-fill-color);\n",
              "  }\n",
              "\n",
              "  .colab-df-quickchart-complete:disabled,\n",
              "  .colab-df-quickchart-complete:disabled:hover {\n",
              "    background-color: var(--disabled-bg-color);\n",
              "    fill: var(--disabled-fill-color);\n",
              "    box-shadow: none;\n",
              "  }\n",
              "\n",
              "  .colab-df-spinner {\n",
              "    border: 2px solid var(--fill-color);\n",
              "    border-color: transparent;\n",
              "    border-bottom-color: var(--fill-color);\n",
              "    animation:\n",
              "      spin 1s steps(1) infinite;\n",
              "  }\n",
              "\n",
              "  @keyframes spin {\n",
              "    0% {\n",
              "      border-color: transparent;\n",
              "      border-bottom-color: var(--fill-color);\n",
              "      border-left-color: var(--fill-color);\n",
              "    }\n",
              "    20% {\n",
              "      border-color: transparent;\n",
              "      border-left-color: var(--fill-color);\n",
              "      border-top-color: var(--fill-color);\n",
              "    }\n",
              "    30% {\n",
              "      border-color: transparent;\n",
              "      border-left-color: var(--fill-color);\n",
              "      border-top-color: var(--fill-color);\n",
              "      border-right-color: var(--fill-color);\n",
              "    }\n",
              "    40% {\n",
              "      border-color: transparent;\n",
              "      border-right-color: var(--fill-color);\n",
              "      border-top-color: var(--fill-color);\n",
              "    }\n",
              "    60% {\n",
              "      border-color: transparent;\n",
              "      border-right-color: var(--fill-color);\n",
              "    }\n",
              "    80% {\n",
              "      border-color: transparent;\n",
              "      border-right-color: var(--fill-color);\n",
              "      border-bottom-color: var(--fill-color);\n",
              "    }\n",
              "    90% {\n",
              "      border-color: transparent;\n",
              "      border-bottom-color: var(--fill-color);\n",
              "    }\n",
              "  }\n",
              "</style>\n",
              "\n",
              "  <script>\n",
              "    async function quickchart(key) {\n",
              "      const quickchartButtonEl =\n",
              "        document.querySelector('#' + key + ' button');\n",
              "      quickchartButtonEl.disabled = true;  // To prevent multiple clicks.\n",
              "      quickchartButtonEl.classList.add('colab-df-spinner');\n",
              "      try {\n",
              "        const charts = await google.colab.kernel.invokeFunction(\n",
              "            'suggestCharts', [key], {});\n",
              "      } catch (error) {\n",
              "        console.error('Error during call to suggestCharts:', error);\n",
              "      }\n",
              "      quickchartButtonEl.classList.remove('colab-df-spinner');\n",
              "      quickchartButtonEl.classList.add('colab-df-quickchart-complete');\n",
              "    }\n",
              "    (() => {\n",
              "      let quickchartButtonEl =\n",
              "        document.querySelector('#df-e01c934c-89d0-46fc-b0be-a7eeb542bfc1 button');\n",
              "      quickchartButtonEl.style.display =\n",
              "        google.colab.kernel.accessAllowed ? 'block' : 'none';\n",
              "    })();\n",
              "  </script>\n",
              "</div>\n",
              "\n",
              "  <div id=\"id_94eea1d0-9650-49b4-810b-5db534d51d2d\">\n",
              "    <style>\n",
              "      .colab-df-generate {\n",
              "        background-color: #E8F0FE;\n",
              "        border: none;\n",
              "        border-radius: 50%;\n",
              "        cursor: pointer;\n",
              "        display: none;\n",
              "        fill: #1967D2;\n",
              "        height: 32px;\n",
              "        padding: 0 0 0 0;\n",
              "        width: 32px;\n",
              "      }\n",
              "\n",
              "      .colab-df-generate:hover {\n",
              "        background-color: #E2EBFA;\n",
              "        box-shadow: 0px 1px 2px rgba(60, 64, 67, 0.3), 0px 1px 3px 1px rgba(60, 64, 67, 0.15);\n",
              "        fill: #174EA6;\n",
              "      }\n",
              "\n",
              "      [theme=dark] .colab-df-generate {\n",
              "        background-color: #3B4455;\n",
              "        fill: #D2E3FC;\n",
              "      }\n",
              "\n",
              "      [theme=dark] .colab-df-generate:hover {\n",
              "        background-color: #434B5C;\n",
              "        box-shadow: 0px 1px 3px 1px rgba(0, 0, 0, 0.15);\n",
              "        filter: drop-shadow(0px 1px 2px rgba(0, 0, 0, 0.3));\n",
              "        fill: #FFFFFF;\n",
              "      }\n",
              "    </style>\n",
              "    <button class=\"colab-df-generate\" onclick=\"generateWithVariable('df_inicial')\"\n",
              "            title=\"Generate code using this dataframe.\"\n",
              "            style=\"display:none;\">\n",
              "\n",
              "  <svg xmlns=\"http://www.w3.org/2000/svg\" height=\"24px\"viewBox=\"0 0 24 24\"\n",
              "       width=\"24px\">\n",
              "    <path d=\"M7,19H8.4L18.45,9,17,7.55,7,17.6ZM5,21V16.75L18.45,3.32a2,2,0,0,1,2.83,0l1.4,1.43a1.91,1.91,0,0,1,.58,1.4,1.91,1.91,0,0,1-.58,1.4L9.25,21ZM18.45,9,17,7.55Zm-12,3A5.31,5.31,0,0,0,4.9,8.1,5.31,5.31,0,0,0,1,6.5,5.31,5.31,0,0,0,4.9,4.9,5.31,5.31,0,0,0,6.5,1,5.31,5.31,0,0,0,8.1,4.9,5.31,5.31,0,0,0,12,6.5,5.46,5.46,0,0,0,6.5,12Z\"/>\n",
              "  </svg>\n",
              "    </button>\n",
              "    <script>\n",
              "      (() => {\n",
              "      const buttonEl =\n",
              "        document.querySelector('#id_94eea1d0-9650-49b4-810b-5db534d51d2d button.colab-df-generate');\n",
              "      buttonEl.style.display =\n",
              "        google.colab.kernel.accessAllowed ? 'block' : 'none';\n",
              "\n",
              "      buttonEl.onclick = () => {\n",
              "        google.colab.notebook.generateWithVariable('df_inicial');\n",
              "      }\n",
              "      })();\n",
              "    </script>\n",
              "  </div>\n",
              "\n",
              "    </div>\n",
              "  </div>\n"
            ],
            "application/vnd.google.colaboratory.intrinsic+json": {
              "type": "dataframe",
              "variable_name": "df_inicial",
              "summary": "{\n  \"name\": \"df_inicial\",\n  \"rows\": 12,\n  \"fields\": [\n    {\n      \"column\": \"ID_CLIENTE\",\n      \"properties\": {\n        \"dtype\": \"string\",\n        \"num_unique_values\": 8,\n        \"samples\": [\n          \"B\",\n          \"F\",\n          \"A\"\n        ],\n        \"semantic_type\": \"\",\n        \"description\": \"\"\n      }\n    },\n    {\n      \"column\": \"ID_VENDA\",\n      \"properties\": {\n        \"dtype\": \"string\",\n        \"num_unique_values\": 10,\n        \"samples\": [\n          \"9\",\n          \"2\",\n          \"6\"\n        ],\n        \"semantic_type\": \"\",\n        \"description\": \"\"\n      }\n    },\n    {\n      \"column\": \"DT_VENDA\",\n      \"properties\": {\n        \"dtype\": \"object\",\n        \"num_unique_values\": 10,\n        \"samples\": [\n          \"11/11/2022\",\n          \"29/01/2022\",\n          \"15/04/2022\"\n        ],\n        \"semantic_type\": \"\",\n        \"description\": \"\"\n      }\n    },\n    {\n      \"column\": \"VLR_VENDA\",\n      \"properties\": {\n        \"dtype\": \"string\",\n        \"num_unique_values\": 10,\n        \"samples\": [\n          \"R$ 186.000\",\n          \"R$ 220.000\",\n          \"R$ 400.000\"\n        ],\n        \"semantic_type\": \"\",\n        \"description\": \"\"\n      }\n    },\n    {\n      \"column\": \"DT_VCT\",\n      \"properties\": {\n        \"dtype\": \"object\",\n        \"num_unique_values\": 8,\n        \"samples\": [\n          \"01/09/2022\",\n          \"15/03/2023\",\n          \"15/09/2022\"\n        ],\n        \"semantic_type\": \"\",\n        \"description\": \"\"\n      }\n    },\n    {\n      \"column\": \"DT_PGTO\",\n      \"properties\": {\n        \"dtype\": \"string\",\n        \"num_unique_values\": 8,\n        \"samples\": [\n          \"25/08/2022\",\n          \"06/02/2023\",\n          \"16/09/2022\"\n        ],\n        \"semantic_type\": \"\",\n        \"description\": \"\"\n      }\n    },\n    {\n      \"column\": \"DT_PROCESSAMENTO\",\n      \"properties\": {\n        \"dtype\": \"object\",\n        \"num_unique_values\": 3,\n        \"samples\": [\n          \"17/01/2023 08:25:52\",\n          \"31/07/2022 00:00:00\",\n          \"12/11/2022 00:00:00\"\n        ],\n        \"semantic_type\": \"\",\n        \"description\": \"\"\n      }\n    }\n  ]\n}"
            }
          },
          "metadata": {},
          "execution_count": 9
        }
      ]
    },
    {
      "cell_type": "markdown",
      "source": [
        "### Agora, com a tabela inicial construída, serão necessários tratamentos nos tipos de dados. Primeiro, transformaremos as colunas de data para o formato datetime."
      ],
      "metadata": {
        "id": "RaNMyTEd_6TK"
      }
    },
    {
      "cell_type": "code",
      "source": [
        "df_inicial['HORA_PROCESSAMENTO'] = df_inicial['DT_PROCESSAMENTO'].str.split(' ').str[1]\n",
        "df_inicial['DT_PROCESSAMENTO'] = df_inicial['DT_PROCESSAMENTO'].str.split(' ').str[0]"
      ],
      "metadata": {
        "id": "W9TU_1Pg_5u8"
      },
      "execution_count": null,
      "outputs": []
    },
    {
      "cell_type": "code",
      "source": [
        "df_inicial['DT_PGTO'] = df_inicial[\"DT_PGTO\"].replace(\"-\", pd.NA)"
      ],
      "metadata": {
        "id": "ZmIavN02Cxdd"
      },
      "execution_count": null,
      "outputs": []
    },
    {
      "cell_type": "code",
      "source": [
        "df_inicial['DT_VENDA'] = pd.to_datetime(df_inicial['DT_VENDA'])\n",
        "df_inicial['DT_VCT'] = pd.to_datetime(df_inicial['DT_VCT'])\n",
        "df_inicial['DT_PGTO'] = pd.to_datetime(df_inicial['DT_PGTO'], errors='coerce')\n",
        "df_inicial['DT_PROCESSAMENTO'] = pd.to_datetime(df_inicial['DT_PROCESSAMENTO'])"
      ],
      "metadata": {
        "id": "xkbFT8aRbcn5"
      },
      "execution_count": null,
      "outputs": []
    },
    {
      "cell_type": "code",
      "source": [
        "df_inicial.info()"
      ],
      "metadata": {
        "colab": {
          "base_uri": "https://localhost:8080/"
        },
        "id": "akVeV3iDBs2j",
        "outputId": "debc23ae-d1c7-4029-fe98-1d00abfd1e35"
      },
      "execution_count": null,
      "outputs": [
        {
          "output_type": "stream",
          "name": "stdout",
          "text": [
            "<class 'pandas.core.frame.DataFrame'>\n",
            "RangeIndex: 12 entries, 0 to 11\n",
            "Data columns (total 8 columns):\n",
            " #   Column              Non-Null Count  Dtype         \n",
            "---  ------              --------------  -----         \n",
            " 0   ID_CLIENTE          12 non-null     object        \n",
            " 1   ID_VENDA            12 non-null     object        \n",
            " 2   DT_VENDA            12 non-null     datetime64[ns]\n",
            " 3   VLR_VENDA           12 non-null     object        \n",
            " 4   DT_VCT              12 non-null     datetime64[ns]\n",
            " 5   DT_PGTO             7 non-null      datetime64[ns]\n",
            " 6   DT_PROCESSAMENTO    12 non-null     datetime64[ns]\n",
            " 7   HORA_PROCESSAMENTO  12 non-null     object        \n",
            "dtypes: datetime64[ns](4), object(4)\n",
            "memory usage: 896.0+ bytes\n"
          ]
        }
      ]
    },
    {
      "cell_type": "markdown",
      "source": [
        "### Repare que alguns IDs de venda estão duplicados na base. É possível perceber que eles foram reprocessados em uma data posterior à sua venda, porém, o registro anterior não foi excluído. No dia a dia, poderíamos consultar a equipe responsável para entender o que houve. Uma questão pertinente: A ideia era registrar uma venda de dois artefatos do mesmo preço? Nesse caso, instruíriamos a inputar os dados de outra maneira, pois o Id_Venda deve ser uma chave primária daquela venda e não pode ser duplicado.\n",
        "### Neste caso, como estamos fazendo apenas uma análise para estudo de uma empresa fictícia, consideraremos a alternativa do erro de processamento e excluíremos da nossa base de dados."
      ],
      "metadata": {
        "id": "8d_AXswDJQ9d"
      }
    },
    {
      "cell_type": "code",
      "source": [
        "df_inicial = df_inicial.drop_duplicates(subset='ID_VENDA', keep='first')"
      ],
      "metadata": {
        "id": "W_KGu6ssJ29T"
      },
      "execution_count": null,
      "outputs": []
    },
    {
      "cell_type": "markdown",
      "source": [
        "### Agora, transformaremos a coluna VLR_VENDA em float."
      ],
      "metadata": {
        "id": "9LRxJwu9DC31"
      }
    },
    {
      "cell_type": "code",
      "source": [
        "df_inicial['VLR_VENDA'] = df_inicial['VLR_VENDA'].str.split(' ').str[1].astype(float)"
      ],
      "metadata": {
        "id": "lSDGzmETB7Vm"
      },
      "execution_count": null,
      "outputs": []
    },
    {
      "cell_type": "markdown",
      "source": [
        "### Agora, com os valores devidamente tratados, vamos visualizar um gráfico com as vendas ao longo do tempo."
      ],
      "metadata": {
        "id": "SC8km6iVDhwp"
      }
    },
    {
      "cell_type": "code",
      "source": [
        "df_vendas_dia = df_inicial.groupby('DT_VENDA')['VLR_VENDA'].sum().reset_index()"
      ],
      "metadata": {
        "id": "iR-ScCSiDPTP"
      },
      "execution_count": null,
      "outputs": []
    },
    {
      "cell_type": "code",
      "source": [
        "plt.style.use('seaborn')\n",
        "fig, ax = plt.subplots(figsize=(10, 6))\n",
        "\n",
        "ax.plot(df_vendas_dia['DT_VENDA'], df_vendas_dia['VLR_VENDA'], color='green', marker='o', linestyle='-')\n",
        "\n",
        "ax.set_title('Gráfico de Vendas ao longo do tempo')\n",
        "ax.set_xlabel('Mês')\n",
        "ax.set_ylabel('Vendas Totais R$')\n",
        "\n",
        "plt.xticks(rotation=45)\n",
        "\n",
        "ax.grid(True, which='both', linestyle='--', linewidth=0.5)\n",
        "\n",
        "plt.tight_layout()\n",
        "plt.show()"
      ],
      "metadata": {
        "colab": {
          "base_uri": "https://localhost:8080/",
          "height": 607
        },
        "id": "uBvv2ibcD6m9",
        "outputId": "af04264f-d1b0-4bda-f2c7-f8988273dfae"
      },
      "execution_count": null,
      "outputs": [
        {
          "output_type": "display_data",
          "data": {
            "text/plain": [
              "<Figure size 1000x600 with 1 Axes>"
            ],
            "image/png": "[encoded data removed]"
          },
          "metadata": {}
        }
      ]
    },
    {
      "cell_type": "markdown",
      "source": [
        "### Como temos poucos dados e não sabemos o segmento de vendas da empresa, não é possível tirar conclusões sobre o comportamento das vendas. Este gráfico poderia indicar sazonalidade das vendas em uma base de dados maior. Por exemplo, talvez uma empresa brasileira que confeccione blusas de inverno tenha os maiores números para suas vendas entre o fim de março e início de setembro, pois em março se aproximam os meses mais frios do ano no Brasil e o período se encerra por volta de setembro."
      ],
      "metadata": {
        "id": "-tSMGuB_HHHm"
      }
    },
    {
      "cell_type": "markdown",
      "source": [
        "### Agora, vamos responder a primeira pergunta proposta: Qual é a quantidade de clientes da empresa ZgX que realizaram compras em 2022?"
      ],
      "metadata": {
        "id": "Yn6VQLQsH2Z_"
      }
    },
    {
      "cell_type": "code",
      "source": [
        "clientes_22 = df_inicial.query('DT_VENDA <= \"2022-12-31\"')['ID_CLIENTE'].nunique()\n",
        "print(f'O número de clientes da empresa ZgX que realizaram compras em 2022 é: {clientes_22}')"
      ],
      "metadata": {
        "colab": {
          "base_uri": "https://localhost:8080/"
        },
        "id": "ks5pin80EcKz",
        "outputId": "03b296c6-52ff-4a69-c45e-0d94209d0c19"
      },
      "execution_count": null,
      "outputs": [
        {
          "output_type": "stream",
          "name": "stdout",
          "text": [
            "O número de clientes da empresa ZgX que realizaram compras em 2022 é: 8\n"
          ]
        }
      ]
    },
    {
      "cell_type": "markdown",
      "source": [
        "### A segunda pergunta proposta é: Qual é a quantidade de vendas realizadas pela empresa ZgX nos anos de 2022 e 2023?"
      ],
      "metadata": {
        "id": "CIECVfVZIk6N"
      }
    },
    {
      "cell_type": "code",
      "source": [
        "vendas_22 = df_inicial.query(\"DT_VENDA <= '31-12-2022'\")['ID_VENDA'].nunique()\n",
        "vendas_23 = df_inicial.query(\"DT_VENDA > '31-12-2022'\")['ID_VENDA'].nunique()\n",
        "vendas_totais = df_inicial['ID_VENDA'].nunique()\n",
        "print(f'O número de vendas realizadas pela empresa ZgX nos anos de 2022 é: {vendas_22} e o número de vendas no ano de 2023 é: {vendas_23}. O número total de vendas é: {vendas_totais}')"
      ],
      "metadata": {
        "colab": {
          "base_uri": "https://localhost:8080/"
        },
        "id": "6zA9W7nsIBmz",
        "outputId": "475dcb66-1839-4ce2-9417-981d4c1c0564"
      },
      "execution_count": null,
      "outputs": [
        {
          "output_type": "stream",
          "name": "stdout",
          "text": [
            "O número de vendas realizadas pela empresa ZgX nos anos de 2022 é: 9 e o número de vendas no ano de 2023 é: 1. O número total de vendas é: 10\n"
          ]
        }
      ]
    },
    {
      "cell_type": "markdown",
      "source": [
        "### Neste caso, como excluímos anteriormente os Id_Vendas duplicados, o número de vendas totais coincide com o número de Ids"
      ],
      "metadata": {
        "id": "Z5mJalBiLae4"
      }
    },
    {
      "cell_type": "markdown",
      "source": [
        "### A terceira pergunta é: Qual é o valor médio (em R$) das vendas realizadas em 2022? E em 2023?"
      ],
      "metadata": {
        "id": "3ymYclL5LfgD"
      }
    },
    {
      "cell_type": "code",
      "source": [
        "vendas_22_totais = df_inicial.query(\"DT_VENDA <= '31-12-2022'\")['VLR_VENDA'].sum()\n",
        "vendas_22_media = vendas_22_totais / 9\n",
        "vendas_23 = df_inicial.query(\"DT_VENDA > '31-12-2022'\")['VLR_VENDA'].sum()"
      ],
      "metadata": {
        "id": "0IZBC4-WIuO3"
      },
      "execution_count": null,
      "outputs": []
    },
    {
      "cell_type": "code",
      "source": [
        "print(f'O valor total das vendas realizadas em 2022 é R${vendas_22_totais}')\n",
        "print(f'O valor médio das vendas realizadas em 2022 é: R${vendas_22_media:.2f}')\n",
        "print(f'O valor total das vendas realizadas em 2023 é: R${vendas_23}')"
      ],
      "metadata": {
        "colab": {
          "base_uri": "https://localhost:8080/"
        },
        "id": "JPX0cyrhMR-z",
        "outputId": "63a22a98-2f2d-46f4-8574-4e5c66a33fd9"
      },
      "execution_count": null,
      "outputs": [
        {
          "output_type": "stream",
          "name": "stdout",
          "text": [
            "O valor total das vendas realizadas em 2022 é R$2191.0\n",
            "O valor médio das vendas realizadas em 2022 é: R$243.44\n",
            "O valor total das vendas realizadas em 2023 é: R$244.0\n"
          ]
        }
      ]
    },
    {
      "cell_type": "markdown",
      "source": [
        "### Para calcular o valor médio, utilizamos a resposta anterior em que verificamos haver 9 vendas para o ano de 2022. No ano de 2023, apenas uma venda foi realizada, portanto, seu valor médio coincide com o valor total."
      ],
      "metadata": {
        "id": "SKW1SZHTNTZv"
      }
    },
    {
      "cell_type": "markdown",
      "source": [
        "### A quarta pergunta é: Qual é o prazo médio de pagamento (em dias) das vendas realizadas em 2022? E em 2023?"
      ],
      "metadata": {
        "id": "vU4hu3ZQN16P"
      }
    },
    {
      "cell_type": "code",
      "source": [
        "df_inicial['DIAS_PAGAMENTO'] = df_inicial['DT_PGTO'] - df_inicial['DT_VENDA']\n",
        "df_inicial['DIAS_PAGAMENTO'] = df_inicial['DIAS_PAGAMENTO'].dt.days"
      ],
      "metadata": {
        "id": "FqQxFGYgMj1o"
      },
      "execution_count": null,
      "outputs": []
    },
    {
      "cell_type": "code",
      "source": [
        "prazo_pgto_medio = df_inicial.query(\"DT_VENDA <= '31-12-2022'\")['DIAS_PAGAMENTO'].mean()\n",
        "prazo_pgto_23 = df_inicial.query(\"DT_VENDA > '31-12-2022'\")['DIAS_PAGAMENTO'].sum()"
      ],
      "metadata": {
        "id": "MECxVoFaM5sO"
      },
      "execution_count": null,
      "outputs": []
    },
    {
      "cell_type": "code",
      "source": [
        "print(f'O prazo de pagamento médio em 2022 é de {prazo_pgto_medio.round():.0f} dias')\n",
        "print(f'O prazo de pagamento médio em 2023 é de {prazo_pgto_23:.0f} dias')"
      ],
      "metadata": {
        "colab": {
          "base_uri": "https://localhost:8080/"
        },
        "id": "nM0VptFpPzNR",
        "outputId": "e84bbab2-06eb-4e24-c5b2-f28d7ecbdff3"
      },
      "execution_count": null,
      "outputs": [
        {
          "output_type": "stream",
          "name": "stdout",
          "text": [
            "O prazo de pagamento médio em 2022 é de 242 dias\n",
            "O prazo de pagamento médio em 2023 é de 205 dias\n"
          ]
        }
      ]
    },
    {
      "cell_type": "markdown",
      "source": [
        "### O cálculo do prazo médio de pagamento em dias resultou em 241.6 dias. Como não há interpretabilidade de um número decimal para dias, arrendondamos para cima, resultando em 242 dias. Como o ano de 2023 só possui uma venda, o valor médio coincide com o intervalo entre a compra e o pagamento. Os dias sem o pagamento registrado foram desconsiderados na média. Desta vez, utilizamos a função Mean para calcular a média. Se fizessemos o cálculo completo, deveríamos dividir por 6, sendo este o resultado da subtração de número de vendas em 2022 por linhas sem registro de pagamento. A média calculada considerando as linhas sem pagamento pode ser útil para entender o impacto causado pela inadimplência, porém, para entendimento do comportamento de clientes pagantes, é mais interessante desconsiderar os inadimplentes. Tudo dependerá do objetivo da análise que está sendo feita."
      ],
      "metadata": {
        "id": "dSC_zTr5QE7k"
      }
    },
    {
      "cell_type": "markdown",
      "source": [
        "### A próxima pergunta é: Quantas vendas foram pagas em dia ou antecipadamente?"
      ],
      "metadata": {
        "id": "GbknmGj1TX-g"
      }
    },
    {
      "cell_type": "code",
      "source": [
        "vendas_no_dia = df_inicial.query(\"DT_PGTO == DT_VCT\")['ID_VENDA'].nunique()\n",
        "vendas_antecipadas = df_inicial.query(\"DT_PGTO <= DT_VCT\")['ID_VENDA'].nunique()"
      ],
      "metadata": {
        "id": "K2j2Pi8APhDo"
      },
      "execution_count": null,
      "outputs": []
    },
    {
      "cell_type": "code",
      "source": [
        "print(f'O número de vendas pagas no dia do vencimento é: {vendas_no_dia}')\n",
        "print(f'O número de vendas pagas antecipadamente é: {vendas_antecipadas}')"
      ],
      "metadata": {
        "colab": {
          "base_uri": "https://localhost:8080/"
        },
        "id": "wX2fNJUUTsK9",
        "outputId": "ee45f358-1684-43cc-a285-918c800de3bc"
      },
      "execution_count": null,
      "outputs": [
        {
          "output_type": "stream",
          "name": "stdout",
          "text": [
            "O número de vendas pagas no dia do vencimento é: 0\n",
            "O número de vendas pagas antecipadamente é: 2\n"
          ]
        }
      ]
    },
    {
      "cell_type": "markdown",
      "source": [
        "### A próxima pergunta é: Quantas vendas ficaram sem pagamento por mais de 90 dias?"
      ],
      "metadata": {
        "id": "LO2pgEh9VHqf"
      }
    },
    {
      "cell_type": "markdown",
      "source": [
        "### Para todas as questões envolvendo prazos de pagamento a seguir, consideraremos que onde não há data de pagamento registrado, o pagamento segue atrasado."
      ],
      "metadata": {
        "id": "7vqCpf7MZcU6"
      }
    },
    {
      "cell_type": "markdown",
      "source": [
        "### Como já temos dados de pagamento em Agosto de 2023 e todos os dados sem registro de pagamento são de 2022, consideraremos que todos estes estão em atraso há mais de 90 dias. Para um processo estruturado, o código levaria em conta na query, além de buscar os pagamentos nulos, uma condição que trouxesse apenas vendas realizadas, no mínimo, 90 dias antes da data da consulta."
      ],
      "metadata": {
        "id": "13mJJbk2eMzF"
      }
    },
    {
      "cell_type": "code",
      "source": [
        "qtd_pgto_90 = df_inicial.query(\"DIAS_PAGAMENTO > 90 or DIAS_PAGAMENTO.isnull()\")['ID_VENDA'].nunique()"
      ],
      "metadata": {
        "id": "BtaK2JS6Txd-"
      },
      "execution_count": null,
      "outputs": []
    },
    {
      "cell_type": "code",
      "source": [
        "print(f'O número de vendas que ficaram sem pagamento por mais de 90 dias é: {qtd_pgto_90}')"
      ],
      "metadata": {
        "colab": {
          "base_uri": "https://localhost:8080/"
        },
        "id": "aDwe5E5YVrld",
        "outputId": "b38be81e-14ad-463e-a830-841903f6b30c"
      },
      "execution_count": null,
      "outputs": [
        {
          "output_type": "stream",
          "name": "stdout",
          "text": [
            "O número de vendas que ficaram sem pagamento por mais de 90 dias é: 10\n"
          ]
        }
      ]
    },
    {
      "cell_type": "markdown",
      "source": [
        "### A próxima pergunta é: Quantos clientes atrasaram o pagamento de suas compras por mais de 90 dias?"
      ],
      "metadata": {
        "id": "YYGGqJY7WCw7"
      }
    },
    {
      "cell_type": "code",
      "source": [
        "df_inicial['DIAS_ATRASO'] = df_inicial['DT_PGTO'] - df_inicial['DT_VCT']\n",
        "df_inicial['DIAS_ATRASO'] = df_inicial['DIAS_ATRASO'].dt.days"
      ],
      "metadata": {
        "id": "T1PjFMlwIRMb"
      },
      "execution_count": null,
      "outputs": []
    },
    {
      "cell_type": "code",
      "source": [
        "n_clientes_atrasados = df_inicial.query(\"DIAS_ATRASO > 90 or DIAS_PAGAMENTO.isnull()\")['ID_CLIENTE'].nunique()\n",
        "clientes_atrasados90 = df_inicial.query(\"DIAS_ATRASO == 90\")['ID_CLIENTE'].nunique()"
      ],
      "metadata": {
        "id": "QT87xVvDVuMr"
      },
      "execution_count": null,
      "outputs": []
    },
    {
      "cell_type": "code",
      "source": [
        "print(f'O número de clientes que atrasou o pagamento por mais de 90 dias é {n_clientes_atrasados} e {clientes_atrasados90} cliente atrasou o pagamento por exatamente 90 dias')"
      ],
      "metadata": {
        "colab": {
          "base_uri": "https://localhost:8080/"
        },
        "id": "3bs_cBJcV-mM",
        "outputId": "ddd82f0e-c41f-479b-f230-de29f6622aa3"
      },
      "execution_count": null,
      "outputs": [
        {
          "output_type": "stream",
          "name": "stdout",
          "text": [
            "O número de clientes que atrasou o pagamento por mais de 90 dias é 4 e 1 cliente atrasou o pagamento por exatamente 90 dias\n"
          ]
        }
      ]
    },
    {
      "cell_type": "markdown",
      "source": [
        "### A próxima pergunta é Quanto a empresa ZgX tinha a receber (em R$) em 31/10/2022?"
      ],
      "metadata": {
        "id": "sIfDZ2G6XRdu"
      }
    },
    {
      "cell_type": "code",
      "source": [
        "valor_a_receber = df_inicial.query(\"DT_VENDA <= '2022/10/31' and DT_PGTO > '2022/10/31' or DT_VENDA <= '2022/10/31' and DIAS_PAGAMENTO.isnull()\")['VLR_VENDA'].sum()"
      ],
      "metadata": {
        "id": "tv1fhIo1XLXi"
      },
      "execution_count": null,
      "outputs": []
    },
    {
      "cell_type": "code",
      "source": [
        "print(f'A empresa tinha R${valor_a_receber:.2f} a receber em 31/10/2022')"
      ],
      "metadata": {
        "colab": {
          "base_uri": "https://localhost:8080/"
        },
        "id": "P_WANbcyXW4h",
        "outputId": "c31dba46-a6ae-425a-88aa-949f47ec6aa3"
      },
      "execution_count": null,
      "outputs": [
        {
          "output_type": "stream",
          "name": "stdout",
          "text": [
            "A empresa tinha R$1540.00 a receber em 31/10/2022\n"
          ]
        }
      ]
    },
    {
      "cell_type": "markdown",
      "source": [
        "### Por fim, a última pergunta proposta é: Quanto a empresa ZgX tinha a receber (em R$) em 31/08/2022?"
      ],
      "metadata": {
        "id": "pA8Hl0o9YQYQ"
      }
    },
    {
      "cell_type": "code",
      "source": [
        "valor_a_receber_agosto = df_inicial.query(\"DT_VENDA <= '2022/08/31' and DT_PGTO > '2022/08/31' or DT_VENDA <= '2022/08/31' and DIAS_PAGAMENTO.isnull()\")['VLR_VENDA'].sum()"
      ],
      "metadata": {
        "id": "K_MK5skKX5hW"
      },
      "execution_count": null,
      "outputs": []
    },
    {
      "cell_type": "code",
      "source": [
        "print(f'A empresa tinha R${valor_a_receber_agosto:.2f} a receber em 31/10/2022')"
      ],
      "metadata": {
        "colab": {
          "base_uri": "https://localhost:8080/"
        },
        "id": "3M616xpiX89Q",
        "outputId": "c5c5852b-8e27-41f3-8a56-5082461241e3"
      },
      "execution_count": null,
      "outputs": [
        {
          "output_type": "stream",
          "name": "stdout",
          "text": [
            "A empresa tinha R$1785.00 a receber em 31/10/2022\n"
          ]
        }
      ]
    },
    {
      "cell_type": "markdown",
      "source": [
        "### Vamos visualizar a diferença entre os dois meses em gráfico."
      ],
      "metadata": {
        "id": "AwQdHHyxaFau"
      }
    },
    {
      "cell_type": "code",
      "source": [
        "dados_grafico_barra = {'Mês': ['Agosto', 'Outubro'], 'Valor a Receber': [valor_a_receber_agosto, valor_a_receber]}\n",
        "df_grafico = pd.DataFrame(dados_grafico_barra)\n",
        "\n",
        "plt.bar(df_grafico['Mês'], df_grafico['Valor a Receber'], color='red')\n",
        "plt.title('Valor a Receber em Agosto e Outubro')\n",
        "plt.xlabel('Mês')\n",
        "plt.ylabel('Valor a Receber (R$)')\n",
        "plt.show()\n"
      ],
      "metadata": {
        "colab": {
          "base_uri": "https://localhost:8080/",
          "height": 524
        },
        "id": "vFLYlLLuY-WR",
        "outputId": "752800dc-025c-4eab-cede-e48805674a6d"
      },
      "execution_count": null,
      "outputs": [
        {
          "output_type": "display_data",
          "data": {
            "text/plain": [
              "<Figure size 800x550 with 1 Axes>"
            ],
            "image/png": "[encoded data removed]"
          },
          "metadata": {}
        }
      ]
    },
    {
      "cell_type": "markdown",
      "source": [
        "### Em conclusão, esta atividade necessitou o uso de técnicas de exploração e coleta de dados de documentos, no caso, um documento de texto no Word, utilização de técnicas de tratamento de dados e montagem de Queries para responder às perguntas de negócio. Com mais dados, seria possível construir análises mais robustas, podendo estas resultarem em dashboards, análises preditivas ou segmentação de clientes. A análise da série temporal de vendas poderia nos fornecer insights relativos à sazonalidade e tendência das vendas ao longo do tempo, além da possibilidade de utilização de técnicas como ARIMA, SARIMA, LSTM (Dentre outros modelos de redes), para prever vendas futuras. Técnicas de regressão também poderiam ser aplicadas à previsão de preços de acordo com outras variáveis que poderiam ser coletadas. Além disso, técnicas de classificação poderiam ser aplicadas para verificar, de acordo com histórico anterior, o risco de uma venda ter seu pagamento atrasado. Neste sentido, Regressão Logística, Random Forest, algoritmos ensemble (XGBoost, LGBM, o próprio Random Forest e etc), dentre outros, poderiam ser aplicados para esta análise. Também é possível realizar a segmentação dos clientes, estudando assim, por exemplo, suas preferências de consumo com relação à produto, período do ano, dentre outras informações úteis. Sendo assim, o poder de análise frente a um banco de dados robusto é grande e fornece insights valiosos à empresa que investe no setor de dados."
      ],
      "metadata": {
        "id": "faWNfChSfMIv"
      }
    }
  ]
}
